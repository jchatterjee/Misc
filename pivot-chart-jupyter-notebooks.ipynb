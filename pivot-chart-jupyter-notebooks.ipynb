{
 "cells": [
  {
   "cell_type": "markdown",
   "metadata": {},
   "source": [
    "# Dataset Creation for Fresh Tracks\n",
    "\n",
    "# Statistical Distributions of Manually Generated Fake Data"
   ]
  },
  {
   "cell_type": "markdown",
   "metadata": {},
   "source": [
    "## Exploratory Data Analysis (EDA)"
   ]
  },
  {
   "cell_type": "markdown",
   "metadata": {},
   "source": [
    "This notebook shall visualize time-series distributions for the following **Company Name** / **Project Name** combinations:\n",
    "\n",
    "<ol>\n",
    "    <li>Squirrel Co. Inc. / Project Helios</li>\n",
    "    <li>Pie Inc. / Project Curve</li>\n",
    "    <li>Deja &amp; Co. Inc. / Mother's Day 2023</li>\n",
    "    <li>Squirrel Co. Inc. / Project May'23 BiMo</li>\n",
    "</ol>\n",
    "\n",
    "For their respective splits and the following metrics (**Event Type**):\n",
    "\n",
    "<ol>\n",
    "    <li>st mail scan</li>\n",
    "    <li>ID emails sent</li>\n",
    "    <li>ID emails opened</li>\n",
    "    <li>ID clickthrough</li>\n",
    "    <li>ID clickthrough 30Day</li>\n",
    "    <li>QR Code Scan</li>\n",
    "    <li>Responses</li>\n",
    "</ol>"
   ]
  },
  {
   "cell_type": "markdown",
   "metadata": {},
   "source": [
    "<a id=toc></a>\n",
    "## Table of Contents\n",
    "\n",
    "<ul>\n",
    "    <li><a href=#01-import-packages>Import Packages</a>\n",
    "    <li><a href=#02-load-dataset>Data Wrangling and Visualization</a>\n",
    "        <ul>\n",
    "            <li><a href=#02-a-check-missing>Check Missingness</a>\n",
    "            <li><a href=#02-b-preprocessing>Preprocessing</a>\n",
    "            <li><a href=#02-c-visualization>Preliminary Visualization</a>\n",
    "        </ul>\n",
    "    <li><a href=#03-save-file>Save Processed File</a>\n",
    "</ul>"
   ]
  },
  {
   "cell_type": "markdown",
   "metadata": {},
   "source": [
    "<a id=01-import-packages></a>\n",
    "## Import Packages"
   ]
  },
  {
   "cell_type": "markdown",
   "metadata": {},
   "source": [
    "Import necessary packages."
   ]
  },
  {
   "cell_type": "code",
   "execution_count": 1,
   "metadata": {
    "execution": {
     "iopub.execute_input": "2023-03-03T06:11:55.410291Z",
     "iopub.status.busy": "2023-03-03T06:11:55.409371Z",
     "iopub.status.idle": "2023-03-03T06:11:55.419164Z",
     "shell.execute_reply": "2023-03-03T06:11:55.417694Z",
     "shell.execute_reply.started": "2023-03-03T06:11:55.410247Z"
    }
   },
   "outputs": [],
   "source": [
    "# Apache parquet files (to save space)\n",
    "# import pyarrow as pa\n",
    "# import pyarrow.parquet as pq\n",
    "\n",
    "# Dataframes and numerical\n",
    "import pandas as pd\n",
    "import numpy as np\n",
    "\n",
    "# Increase pandas default display \n",
    "pd.options.display.max_rows = 250\n",
    "pd.options.display.max_columns = 250\n",
    "\n",
    "# Suppress scientific notation of data in pandas\n",
    "pd.set_option('display.float_format', '{:.2f}'.format)\n",
    "\n",
    "# Graphing\n",
    "# From https://stackoverflow.com/questions/43529054/how-to-plot-pivot-chart-in-python\n",
    "from pivottablejs import pivot_ui\n",
    "# import plotly.express as px\n",
    "# import plotly.graph_objects as go\n",
    "\n",
    "# Machine learning\n",
    "# from sklearn.model_selection import GridSearchCV, TimeSeriesSplit             \n",
    "# from sklearn.linear_model import Lasso, Ridge, ElasticNet\n",
    "# from sklearn.ensemble import RandomForestRegressor, GradientBoostingRegressor\n",
    "# from sklearn.preprocessing import LabelEncoder, StandardScaler, MinMaxScaler\n",
    "\n",
    "# Suppress warnings\n",
    "import warnings\n",
    "warnings.filterwarnings('ignore')"
   ]
  },
  {
   "cell_type": "markdown",
   "metadata": {},
   "source": [
    "<a href=#toc>Back to the top</a>"
   ]
  },
  {
   "cell_type": "markdown",
   "metadata": {},
   "source": [
    "<a id=02-load-dataset></a>\n",
    "## Data Wrangling and Visualization"
   ]
  },
  {
   "cell_type": "markdown",
   "metadata": {},
   "source": [
    "Load **csv** file for training data set."
   ]
  },
  {
   "cell_type": "code",
   "execution_count": 2,
   "metadata": {
    "execution": {
     "iopub.execute_input": "2023-03-03T06:11:55.422534Z",
     "iopub.status.busy": "2023-03-03T06:11:55.421911Z",
     "iopub.status.idle": "2023-03-03T06:11:55.617153Z",
     "shell.execute_reply": "2023-03-03T06:11:55.615856Z",
     "shell.execute_reply.started": "2023-03-03T06:11:55.422482Z"
    }
   },
   "outputs": [],
   "source": [
    "# Use this method since there is a problem with the filepath in the notebook file\n",
    "# More here: https://www.youtube.com/watch?v=29vM232xhAk\n",
    "\n",
    "# Manual fake data\n",
    "file_1 = '/Users/jchatterjee/Library/CloudStorage/OneDrive-Personal/Documents/NYCDSA/Projects/Upwork/8 - Snowball Print Marketing Dataset Creation/1 - Visualization of Supplied Data/Originals/Fresh Tracks 1.0 Sample Data 3_31 - sample date driven data.csv'\n",
    "\n",
    "# Company Name / Project Name\n",
    "file_2 = '/Users/jchatterjee/Library/CloudStorage/OneDrive-Personal/Documents/NYCDSA/Projects/Upwork/8 - Snowball Print Marketing Dataset Creation/1 - Visualization of Supplied Data/Originals/Fresh Tracks 1.0 Sample Data 3_31 - Web Form Data.csv'\n",
    "\n",
    "data = pd.read_csv(file_1)\n",
    "copr = pd.read_csv(file_2)"
   ]
  },
  {
   "cell_type": "code",
   "execution_count": 3,
   "metadata": {},
   "outputs": [
    {
     "name": "stdout",
     "output_type": "stream",
     "text": [
      "<class 'pandas.core.frame.DataFrame'>\n",
      "RangeIndex: 4700 entries, 0 to 4699\n",
      "Data columns (total 7 columns):\n",
      " #   Column        Non-Null Count  Dtype \n",
      "---  ------        --------------  ----- \n",
      " 0   SB Project #  4700 non-null   object\n",
      " 1   SB Job #      4700 non-null   int64 \n",
      " 2   Split         4700 non-null   object\n",
      " 3   Date          4700 non-null   object\n",
      " 4   Value         4700 non-null   int64 \n",
      " 5   State         4700 non-null   object\n",
      " 6   Event Type    4700 non-null   object\n",
      "dtypes: int64(2), object(5)\n",
      "memory usage: 257.2+ KB\n"
     ]
    }
   ],
   "source": [
    "data.info()"
   ]
  },
  {
   "cell_type": "code",
   "execution_count": 4,
   "metadata": {
    "execution": {
     "iopub.execute_input": "2023-03-03T06:11:55.618811Z",
     "iopub.status.busy": "2023-03-03T06:11:55.618475Z",
     "iopub.status.idle": "2023-03-03T06:11:55.636172Z",
     "shell.execute_reply": "2023-03-03T06:11:55.634907Z",
     "shell.execute_reply.started": "2023-03-03T06:11:55.618780Z"
    }
   },
   "outputs": [
    {
     "data": {
      "text/html": [
       "<div>\n",
       "<style scoped>\n",
       "    .dataframe tbody tr th:only-of-type {\n",
       "        vertical-align: middle;\n",
       "    }\n",
       "\n",
       "    .dataframe tbody tr th {\n",
       "        vertical-align: top;\n",
       "    }\n",
       "\n",
       "    .dataframe thead th {\n",
       "        text-align: right;\n",
       "    }\n",
       "</style>\n",
       "<table border=\"1\" class=\"dataframe\">\n",
       "  <thead>\n",
       "    <tr style=\"text-align: right;\">\n",
       "      <th></th>\n",
       "      <th>SB Project #</th>\n",
       "      <th>SB Job #</th>\n",
       "      <th>Split</th>\n",
       "      <th>Date</th>\n",
       "      <th>Value</th>\n",
       "      <th>State</th>\n",
       "      <th>Event Type</th>\n",
       "    </tr>\n",
       "  </thead>\n",
       "  <tbody>\n",
       "    <tr>\n",
       "      <th>0</th>\n",
       "      <td>P259</td>\n",
       "      <td>572855</td>\n",
       "      <td>US330</td>\n",
       "      <td>2023-03-24</td>\n",
       "      <td>35</td>\n",
       "      <td>DE</td>\n",
       "      <td>st mail scan</td>\n",
       "    </tr>\n",
       "    <tr>\n",
       "      <th>1</th>\n",
       "      <td>P259</td>\n",
       "      <td>572855</td>\n",
       "      <td>US330</td>\n",
       "      <td>2023-03-24</td>\n",
       "      <td>164</td>\n",
       "      <td>MA</td>\n",
       "      <td>st mail scan</td>\n",
       "    </tr>\n",
       "    <tr>\n",
       "      <th>2</th>\n",
       "      <td>P259</td>\n",
       "      <td>572855</td>\n",
       "      <td>US330</td>\n",
       "      <td>2023-03-24</td>\n",
       "      <td>19</td>\n",
       "      <td>NM</td>\n",
       "      <td>st mail scan</td>\n",
       "    </tr>\n",
       "    <tr>\n",
       "      <th>3</th>\n",
       "      <td>P259</td>\n",
       "      <td>572855</td>\n",
       "      <td>US330</td>\n",
       "      <td>2023-03-24</td>\n",
       "      <td>665</td>\n",
       "      <td>OK</td>\n",
       "      <td>st mail scan</td>\n",
       "    </tr>\n",
       "    <tr>\n",
       "      <th>4</th>\n",
       "      <td>P259</td>\n",
       "      <td>572855</td>\n",
       "      <td>US330</td>\n",
       "      <td>2023-03-24</td>\n",
       "      <td>91</td>\n",
       "      <td>TN</td>\n",
       "      <td>st mail scan</td>\n",
       "    </tr>\n",
       "  </tbody>\n",
       "</table>\n",
       "</div>"
      ],
      "text/plain": [
       "  SB Project #  SB Job #  Split        Date  Value State    Event Type\n",
       "0         P259    572855  US330  2023-03-24     35   DE   st mail scan\n",
       "1         P259    572855  US330  2023-03-24    164    MA  st mail scan\n",
       "2         P259    572855  US330  2023-03-24     19    NM  st mail scan\n",
       "3         P259    572855  US330  2023-03-24    665    OK  st mail scan\n",
       "4         P259    572855  US330  2023-03-24     91    TN  st mail scan"
      ]
     },
     "execution_count": 4,
     "metadata": {},
     "output_type": "execute_result"
    }
   ],
   "source": [
    "data.head()"
   ]
  },
  {
   "cell_type": "code",
   "execution_count": 5,
   "metadata": {
    "execution": {
     "iopub.execute_input": "2023-03-03T06:11:55.639545Z",
     "iopub.status.busy": "2023-03-03T06:11:55.639181Z",
     "iopub.status.idle": "2023-03-03T06:11:55.649106Z",
     "shell.execute_reply": "2023-03-03T06:11:55.647808Z",
     "shell.execute_reply.started": "2023-03-03T06:11:55.639501Z"
    }
   },
   "outputs": [
    {
     "data": {
      "text/plain": [
       "(4700, 7)"
      ]
     },
     "execution_count": 5,
     "metadata": {},
     "output_type": "execute_result"
    }
   ],
   "source": [
    "data.shape"
   ]
  },
  {
   "cell_type": "code",
   "execution_count": 6,
   "metadata": {
    "execution": {
     "iopub.execute_input": "2023-03-03T06:11:55.651049Z",
     "iopub.status.busy": "2023-03-03T06:11:55.650664Z",
     "iopub.status.idle": "2023-03-03T06:11:55.755784Z",
     "shell.execute_reply": "2023-03-03T06:11:55.754365Z",
     "shell.execute_reply.started": "2023-03-03T06:11:55.651002Z"
    }
   },
   "outputs": [
    {
     "data": {
      "text/html": [
       "<div>\n",
       "<style scoped>\n",
       "    .dataframe tbody tr th:only-of-type {\n",
       "        vertical-align: middle;\n",
       "    }\n",
       "\n",
       "    .dataframe tbody tr th {\n",
       "        vertical-align: top;\n",
       "    }\n",
       "\n",
       "    .dataframe thead th {\n",
       "        text-align: right;\n",
       "    }\n",
       "</style>\n",
       "<table border=\"1\" class=\"dataframe\">\n",
       "  <thead>\n",
       "    <tr style=\"text-align: right;\">\n",
       "      <th></th>\n",
       "      <th>SB Job #</th>\n",
       "      <th>Value</th>\n",
       "    </tr>\n",
       "  </thead>\n",
       "  <tbody>\n",
       "    <tr>\n",
       "      <th>count</th>\n",
       "      <td>4700.00</td>\n",
       "      <td>4700.00</td>\n",
       "    </tr>\n",
       "    <tr>\n",
       "      <th>mean</th>\n",
       "      <td>576289.11</td>\n",
       "      <td>602.27</td>\n",
       "    </tr>\n",
       "    <tr>\n",
       "      <th>std</th>\n",
       "      <td>12821.08</td>\n",
       "      <td>3510.81</td>\n",
       "    </tr>\n",
       "    <tr>\n",
       "      <th>min</th>\n",
       "      <td>535467.00</td>\n",
       "      <td>0.00</td>\n",
       "    </tr>\n",
       "    <tr>\n",
       "      <th>25%</th>\n",
       "      <td>572855.00</td>\n",
       "      <td>4.00</td>\n",
       "    </tr>\n",
       "    <tr>\n",
       "      <th>50%</th>\n",
       "      <td>581785.00</td>\n",
       "      <td>34.00</td>\n",
       "    </tr>\n",
       "    <tr>\n",
       "      <th>75%</th>\n",
       "      <td>581785.00</td>\n",
       "      <td>329.25</td>\n",
       "    </tr>\n",
       "    <tr>\n",
       "      <th>max</th>\n",
       "      <td>581785.00</td>\n",
       "      <td>189010.00</td>\n",
       "    </tr>\n",
       "  </tbody>\n",
       "</table>\n",
       "</div>"
      ],
      "text/plain": [
       "       SB Job #     Value\n",
       "count   4700.00   4700.00\n",
       "mean  576289.11    602.27\n",
       "std    12821.08   3510.81\n",
       "min   535467.00      0.00\n",
       "25%   572855.00      4.00\n",
       "50%   581785.00     34.00\n",
       "75%   581785.00    329.25\n",
       "max   581785.00 189010.00"
      ]
     },
     "execution_count": 6,
     "metadata": {},
     "output_type": "execute_result"
    }
   ],
   "source": [
    "# Describe data\n",
    "data.describe()"
   ]
  },
  {
   "cell_type": "code",
   "execution_count": 7,
   "metadata": {},
   "outputs": [
    {
     "name": "stdout",
     "output_type": "stream",
     "text": [
      "<class 'pandas.core.frame.DataFrame'>\n",
      "RangeIndex: 4 entries, 0 to 3\n",
      "Data columns (total 8 columns):\n",
      " #   Column               Non-Null Count  Dtype \n",
      "---  ------               --------------  ----- \n",
      " 0   SB Project #         4 non-null      object\n",
      " 1   SB Job #             4 non-null      int64 \n",
      " 2   Company Name         4 non-null      object\n",
      " 3   Project Name         4 non-null      object\n",
      " 4   # Creative Versions  4 non-null      int64 \n",
      " 5   Planned Mail Qty     4 non-null      object\n",
      " 6   Planned Mail Date    4 non-null      object\n",
      " 7   CPP                  4 non-null      object\n",
      "dtypes: int64(2), object(6)\n",
      "memory usage: 384.0+ bytes\n"
     ]
    }
   ],
   "source": [
    "copr.info()"
   ]
  },
  {
   "cell_type": "code",
   "execution_count": 8,
   "metadata": {},
   "outputs": [
    {
     "data": {
      "text/html": [
       "<div>\n",
       "<style scoped>\n",
       "    .dataframe tbody tr th:only-of-type {\n",
       "        vertical-align: middle;\n",
       "    }\n",
       "\n",
       "    .dataframe tbody tr th {\n",
       "        vertical-align: top;\n",
       "    }\n",
       "\n",
       "    .dataframe thead th {\n",
       "        text-align: right;\n",
       "    }\n",
       "</style>\n",
       "<table border=\"1\" class=\"dataframe\">\n",
       "  <thead>\n",
       "    <tr style=\"text-align: right;\">\n",
       "      <th></th>\n",
       "      <th>SB Project #</th>\n",
       "      <th>SB Job #</th>\n",
       "      <th>Company Name</th>\n",
       "      <th>Project Name</th>\n",
       "      <th># Creative Versions</th>\n",
       "      <th>Planned Mail Qty</th>\n",
       "      <th>Planned Mail Date</th>\n",
       "      <th>CPP</th>\n",
       "    </tr>\n",
       "  </thead>\n",
       "  <tbody>\n",
       "    <tr>\n",
       "      <th>0</th>\n",
       "      <td>P259</td>\n",
       "      <td>572855</td>\n",
       "      <td>Squirrel Co Inc</td>\n",
       "      <td>Project Helios</td>\n",
       "      <td>2</td>\n",
       "      <td>25,000</td>\n",
       "      <td>3/1/23</td>\n",
       "      <td>$0.69</td>\n",
       "    </tr>\n",
       "    <tr>\n",
       "      <th>1</th>\n",
       "      <td>P944</td>\n",
       "      <td>535467</td>\n",
       "      <td>Pie Inc</td>\n",
       "      <td>Project Curve</td>\n",
       "      <td>1</td>\n",
       "      <td>30,000</td>\n",
       "      <td>4/5/23</td>\n",
       "      <td>$0.82</td>\n",
       "    </tr>\n",
       "    <tr>\n",
       "      <th>2</th>\n",
       "      <td>P1075</td>\n",
       "      <td>578963</td>\n",
       "      <td>Deja &amp; Co Inc</td>\n",
       "      <td>Mother's Day 2023</td>\n",
       "      <td>1</td>\n",
       "      <td>10,000</td>\n",
       "      <td>4/10/23</td>\n",
       "      <td>$0.89</td>\n",
       "    </tr>\n",
       "    <tr>\n",
       "      <th>3</th>\n",
       "      <td>P1021</td>\n",
       "      <td>581785</td>\n",
       "      <td>Squirrel Co Inc</td>\n",
       "      <td>Project May'23 BiMo</td>\n",
       "      <td>8</td>\n",
       "      <td>2,377,500</td>\n",
       "      <td>5/4/23</td>\n",
       "      <td>$0.42</td>\n",
       "    </tr>\n",
       "  </tbody>\n",
       "</table>\n",
       "</div>"
      ],
      "text/plain": [
       "  SB Project #  SB Job #     Company Name         Project Name  \\\n",
       "0         P259    572855  Squirrel Co Inc       Project Helios   \n",
       "1         P944    535467          Pie Inc        Project Curve   \n",
       "2        P1075    578963    Deja & Co Inc    Mother's Day 2023   \n",
       "3        P1021    581785  Squirrel Co Inc  Project May'23 BiMo   \n",
       "\n",
       "   # Creative Versions Planned Mail Qty Planned Mail Date     CPP  \n",
       "0                    2           25,000            3/1/23  $0.69   \n",
       "1                    1           30,000            4/5/23  $0.82   \n",
       "2                    1           10,000           4/10/23  $0.89   \n",
       "3                    8        2,377,500            5/4/23  $0.42   "
      ]
     },
     "execution_count": 8,
     "metadata": {},
     "output_type": "execute_result"
    }
   ],
   "source": [
    "copr.head()"
   ]
  },
  {
   "cell_type": "markdown",
   "metadata": {},
   "source": [
    "<a href=#toc>Back to the top</a>"
   ]
  },
  {
   "cell_type": "markdown",
   "metadata": {},
   "source": [
    "<a id=02-a-check-missing></a>\n",
    "### Check Missingness"
   ]
  },
  {
   "cell_type": "code",
   "execution_count": 9,
   "metadata": {
    "execution": {
     "iopub.execute_input": "2023-03-03T06:11:55.757919Z",
     "iopub.status.busy": "2023-03-03T06:11:55.757550Z",
     "iopub.status.idle": "2023-03-03T06:11:55.803911Z",
     "shell.execute_reply": "2023-03-03T06:11:55.802592Z",
     "shell.execute_reply.started": "2023-03-03T06:11:55.757886Z"
    }
   },
   "outputs": [
    {
     "name": "stdout",
     "output_type": "stream",
     "text": [
      "SB Project #: 0\n",
      "SB Job #: 0\n",
      "Split: 0\n",
      "Date: 0\n",
      "Value: 0\n",
      "State: 0\n",
      "Event Type: 0\n"
     ]
    }
   ],
   "source": [
    "for col in data.columns:\n",
    "    print(f'{col}: {data[col].isnull().sum()}')"
   ]
  },
  {
   "cell_type": "markdown",
   "metadata": {},
   "source": [
    "<a href=#toc>Back to the top</a>"
   ]
  },
  {
   "cell_type": "markdown",
   "metadata": {},
   "source": [
    "<a id=02-b-preprocessing></a>\n",
    "### Preprocessing"
   ]
  },
  {
   "cell_type": "markdown",
   "metadata": {},
   "source": [
    "Perform the following modifications:\n",
    "\n",
    "<ol>\n",
    "    <li>Join DataFrame containing <b>Company Name</b> and <b>Project Name</b> to that of the fake data</li>\n",
    "    <li>Drop <b>SB Project #</b> and <b>SB Job #</b> columns and create new dataframe with following columns in this order:\n",
    "        <ol>\n",
    "            <li><b>Company Name</b></li>\n",
    "            <li><b>Project Name</b></li>\n",
    "            <li><b>Split</b></li>\n",
    "            <li><b>Date</b></li>\n",
    "            <li><b>Value</b></li>\n",
    "            <li><b>State</b></li>\n",
    "            <li><b>Event Type</b></li>\n",
    "        </ol>\n",
    "    </li>\n",
    "</ol>"
   ]
  },
  {
   "cell_type": "code",
   "execution_count": 10,
   "metadata": {
    "execution": {
     "iopub.execute_input": "2023-03-03T06:15:05.889076Z",
     "iopub.status.busy": "2023-03-03T06:15:05.888662Z",
     "iopub.status.idle": "2023-03-03T06:15:05.950485Z",
     "shell.execute_reply": "2023-03-03T06:15:05.948924Z",
     "shell.execute_reply.started": "2023-03-03T06:15:05.889040Z"
    }
   },
   "outputs": [],
   "source": [
    "# Merge DataFrames\n",
    "data = data.merge(copr, on = 'SB Project #')\n",
    "\n",
    "# Reindex columns for readability.\n",
    "col_names = ['Company Name', 'Project Name', 'Split', 'Date', 'Value', 'State', 'Event Type']\n",
    "data = data.reindex(columns = col_names)"
   ]
  },
  {
   "cell_type": "code",
   "execution_count": 11,
   "metadata": {},
   "outputs": [
    {
     "data": {
      "text/html": [
       "<div>\n",
       "<style scoped>\n",
       "    .dataframe tbody tr th:only-of-type {\n",
       "        vertical-align: middle;\n",
       "    }\n",
       "\n",
       "    .dataframe tbody tr th {\n",
       "        vertical-align: top;\n",
       "    }\n",
       "\n",
       "    .dataframe thead th {\n",
       "        text-align: right;\n",
       "    }\n",
       "</style>\n",
       "<table border=\"1\" class=\"dataframe\">\n",
       "  <thead>\n",
       "    <tr style=\"text-align: right;\">\n",
       "      <th></th>\n",
       "      <th>Company Name</th>\n",
       "      <th>Project Name</th>\n",
       "      <th>Split</th>\n",
       "      <th>Date</th>\n",
       "      <th>Value</th>\n",
       "      <th>State</th>\n",
       "      <th>Event Type</th>\n",
       "    </tr>\n",
       "  </thead>\n",
       "  <tbody>\n",
       "    <tr>\n",
       "      <th>0</th>\n",
       "      <td>Squirrel Co Inc</td>\n",
       "      <td>Project Helios</td>\n",
       "      <td>US330</td>\n",
       "      <td>2023-03-24</td>\n",
       "      <td>35</td>\n",
       "      <td>DE</td>\n",
       "      <td>st mail scan</td>\n",
       "    </tr>\n",
       "    <tr>\n",
       "      <th>1</th>\n",
       "      <td>Squirrel Co Inc</td>\n",
       "      <td>Project Helios</td>\n",
       "      <td>US330</td>\n",
       "      <td>2023-03-24</td>\n",
       "      <td>164</td>\n",
       "      <td>MA</td>\n",
       "      <td>st mail scan</td>\n",
       "    </tr>\n",
       "    <tr>\n",
       "      <th>2</th>\n",
       "      <td>Squirrel Co Inc</td>\n",
       "      <td>Project Helios</td>\n",
       "      <td>US330</td>\n",
       "      <td>2023-03-24</td>\n",
       "      <td>19</td>\n",
       "      <td>NM</td>\n",
       "      <td>st mail scan</td>\n",
       "    </tr>\n",
       "    <tr>\n",
       "      <th>3</th>\n",
       "      <td>Squirrel Co Inc</td>\n",
       "      <td>Project Helios</td>\n",
       "      <td>US330</td>\n",
       "      <td>2023-03-24</td>\n",
       "      <td>665</td>\n",
       "      <td>OK</td>\n",
       "      <td>st mail scan</td>\n",
       "    </tr>\n",
       "    <tr>\n",
       "      <th>4</th>\n",
       "      <td>Squirrel Co Inc</td>\n",
       "      <td>Project Helios</td>\n",
       "      <td>US330</td>\n",
       "      <td>2023-03-24</td>\n",
       "      <td>91</td>\n",
       "      <td>TN</td>\n",
       "      <td>st mail scan</td>\n",
       "    </tr>\n",
       "  </tbody>\n",
       "</table>\n",
       "</div>"
      ],
      "text/plain": [
       "      Company Name    Project Name  Split        Date  Value State  \\\n",
       "0  Squirrel Co Inc  Project Helios  US330  2023-03-24     35   DE    \n",
       "1  Squirrel Co Inc  Project Helios  US330  2023-03-24    164    MA   \n",
       "2  Squirrel Co Inc  Project Helios  US330  2023-03-24     19    NM   \n",
       "3  Squirrel Co Inc  Project Helios  US330  2023-03-24    665    OK   \n",
       "4  Squirrel Co Inc  Project Helios  US330  2023-03-24     91    TN   \n",
       "\n",
       "     Event Type  \n",
       "0  st mail scan  \n",
       "1  st mail scan  \n",
       "2  st mail scan  \n",
       "3  st mail scan  \n",
       "4  st mail scan  "
      ]
     },
     "execution_count": 11,
     "metadata": {},
     "output_type": "execute_result"
    }
   ],
   "source": [
    "data.head()"
   ]
  },
  {
   "cell_type": "markdown",
   "metadata": {},
   "source": [
    "<a href=#toc>Back to the top</a>"
   ]
  },
  {
   "cell_type": "markdown",
   "metadata": {},
   "source": [
    "<a id=02-c-visualization></a>\n",
    "### Preliminary Visualization"
   ]
  },
  {
   "cell_type": "code",
   "execution_count": 12,
   "metadata": {},
   "outputs": [
    {
     "data": {
      "text/html": [
       "\n",
       "        <iframe\n",
       "            width=\"100%\"\n",
       "            height=\"500\"\n",
       "            src=\"pivottablejs.html\"\n",
       "            frameborder=\"0\"\n",
       "            allowfullscreen\n",
       "            \n",
       "        ></iframe>\n",
       "        "
      ],
      "text/plain": [
       "<IPython.lib.display.IFrame at 0x7fe1c7949bb0>"
      ]
     },
     "execution_count": 12,
     "metadata": {},
     "output_type": "execute_result"
    }
   ],
   "source": [
    "# From https://stackoverflow.com/questions/43529054/how-to-plot-pivot-chart-in-python\n",
    "pivot_ui(data)"
   ]
  },
  {
   "cell_type": "markdown",
   "metadata": {},
   "source": [
    "<a href=#toc>Back to the top</a>"
   ]
  },
  {
   "cell_type": "markdown",
   "metadata": {},
   "source": [
    "<a id=03-save-file></a>\n",
    "## Save Processed File"
   ]
  },
  {
   "cell_type": "code",
   "execution_count": 13,
   "metadata": {},
   "outputs": [],
   "source": [
    "# Enter code here"
   ]
  },
  {
   "cell_type": "markdown",
   "metadata": {},
   "source": [
    "<a href=#toc>Back to the top</a>"
   ]
  }
 ],
 "metadata": {
  "kernelspec": {
   "display_name": "Python 3 (ipykernel)",
   "language": "python",
   "name": "python3"
  },
  "language_info": {
   "codemirror_mode": {
    "name": "ipython",
    "version": 3
   },
   "file_extension": ".py",
   "mimetype": "text/x-python",
   "name": "python",
   "nbconvert_exporter": "python",
   "pygments_lexer": "ipython3",
   "version": "3.9.7"
  }
 },
 "nbformat": 4,
 "nbformat_minor": 4
}
